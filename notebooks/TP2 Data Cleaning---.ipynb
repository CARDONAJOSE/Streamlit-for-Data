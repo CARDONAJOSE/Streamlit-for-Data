{
 "cells": [
  {
   "cell_type": "markdown",
   "id": "5cd5d1f4",
   "metadata": {},
   "source": [
    "# TP 2: Préparation des données"
   ]
  },
  {
   "cell_type": "code",
   "execution_count": 1,
   "id": "16963091",
   "metadata": {},
   "outputs": [],
   "source": [
    "import pandas as pd\n",
    "import seaborn as sns\n",
    "import matplotlib.pyplot as plt\n",
    "import numpy as np"
   ]
  },
  {
   "cell_type": "markdown",
   "id": "9b669446",
   "metadata": {},
   "source": [
    "## Partie 1"
   ]
  },
  {
   "cell_type": "markdown",
   "id": "8675eaad",
   "metadata": {},
   "source": [
    "1) Télecharger les données tips de seaborn"
   ]
  },
  {
   "cell_type": "code",
   "execution_count": 2,
   "id": "d8dad491",
   "metadata": {},
   "outputs": [],
   "source": [
    "tips = sns.load_dataset(\"tips\")\n",
    "df_copy=tips.copy()"
   ]
  },
  {
   "cell_type": "code",
   "execution_count": 3,
   "id": "cf4b01d4",
   "metadata": {},
   "outputs": [
    {
     "data": {
      "text/html": [
       "<div>\n",
       "<style scoped>\n",
       "    .dataframe tbody tr th:only-of-type {\n",
       "        vertical-align: middle;\n",
       "    }\n",
       "\n",
       "    .dataframe tbody tr th {\n",
       "        vertical-align: top;\n",
       "    }\n",
       "\n",
       "    .dataframe thead th {\n",
       "        text-align: right;\n",
       "    }\n",
       "</style>\n",
       "<table border=\"1\" class=\"dataframe\">\n",
       "  <thead>\n",
       "    <tr style=\"text-align: right;\">\n",
       "      <th></th>\n",
       "      <th>total_bill</th>\n",
       "      <th>tip</th>\n",
       "      <th>sex</th>\n",
       "      <th>smoker</th>\n",
       "      <th>day</th>\n",
       "      <th>time</th>\n",
       "      <th>size</th>\n",
       "    </tr>\n",
       "  </thead>\n",
       "  <tbody>\n",
       "    <tr>\n",
       "      <th>0</th>\n",
       "      <td>16.99</td>\n",
       "      <td>1.01</td>\n",
       "      <td>Female</td>\n",
       "      <td>No</td>\n",
       "      <td>Sun</td>\n",
       "      <td>Dinner</td>\n",
       "      <td>2</td>\n",
       "    </tr>\n",
       "    <tr>\n",
       "      <th>1</th>\n",
       "      <td>10.34</td>\n",
       "      <td>1.66</td>\n",
       "      <td>Male</td>\n",
       "      <td>No</td>\n",
       "      <td>Sun</td>\n",
       "      <td>Dinner</td>\n",
       "      <td>3</td>\n",
       "    </tr>\n",
       "    <tr>\n",
       "      <th>2</th>\n",
       "      <td>21.01</td>\n",
       "      <td>3.50</td>\n",
       "      <td>Male</td>\n",
       "      <td>No</td>\n",
       "      <td>Sun</td>\n",
       "      <td>Dinner</td>\n",
       "      <td>3</td>\n",
       "    </tr>\n",
       "    <tr>\n",
       "      <th>3</th>\n",
       "      <td>23.68</td>\n",
       "      <td>3.31</td>\n",
       "      <td>Male</td>\n",
       "      <td>No</td>\n",
       "      <td>Sun</td>\n",
       "      <td>Dinner</td>\n",
       "      <td>2</td>\n",
       "    </tr>\n",
       "    <tr>\n",
       "      <th>4</th>\n",
       "      <td>24.59</td>\n",
       "      <td>3.61</td>\n",
       "      <td>Female</td>\n",
       "      <td>No</td>\n",
       "      <td>Sun</td>\n",
       "      <td>Dinner</td>\n",
       "      <td>4</td>\n",
       "    </tr>\n",
       "  </tbody>\n",
       "</table>\n",
       "</div>"
      ],
      "text/plain": [
       "   total_bill   tip     sex smoker  day    time  size\n",
       "0       16.99  1.01  Female     No  Sun  Dinner     2\n",
       "1       10.34  1.66    Male     No  Sun  Dinner     3\n",
       "2       21.01  3.50    Male     No  Sun  Dinner     3\n",
       "3       23.68  3.31    Male     No  Sun  Dinner     2\n",
       "4       24.59  3.61  Female     No  Sun  Dinner     4"
      ]
     },
     "execution_count": 3,
     "metadata": {},
     "output_type": "execute_result"
    }
   ],
   "source": [
    "tips.head()"
   ]
  },
  {
   "cell_type": "markdown",
   "id": "4de9105e",
   "metadata": {},
   "source": [
    "2) Encoder les variable: 'sex', 'day', 'smoker', 'time'"
   ]
  },
  {
   "cell_type": "code",
   "execution_count": 4,
   "id": "9406bbe8",
   "metadata": {},
   "outputs": [],
   "source": [
    "from sklearn.preprocessing import LabelEncoder, OrdinalEncoder, OneHotEncoder"
   ]
  },
  {
   "cell_type": "code",
   "execution_count": 5,
   "id": "085c8e79",
   "metadata": {},
   "outputs": [
    {
     "data": {
      "text/plain": [
       "array([[1., 0., 0., ..., 0., 1., 0.],\n",
       "       [0., 1., 0., ..., 0., 1., 0.],\n",
       "       [0., 1., 0., ..., 0., 1., 0.],\n",
       "       ...,\n",
       "       [0., 1., 0., ..., 1., 1., 0.],\n",
       "       [0., 1., 0., ..., 0., 1., 0.],\n",
       "       [1., 0., 0., ..., 0., 1., 0.]])"
      ]
     },
     "execution_count": 5,
     "metadata": {},
     "output_type": "execute_result"
    }
   ],
   "source": [
    "one_hot = OneHotEncoder()\n",
    "one_hot.fit(tips[['sex', 'day', 'smoker', 'time']])\n",
    "encoded_features_tips = one_hot.transform(tips[['sex', 'day', 'smoker', 'time']]).toarray()\n",
    "encoded_features_tips\n"
   ]
  },
  {
   "cell_type": "markdown",
   "id": "a5634a91",
   "metadata": {},
   "source": [
    "3) Construire ```ohe_df```, un DataFrame qui contient les données encodées de la question 2"
   ]
  },
  {
   "cell_type": "code",
   "execution_count": 6,
   "id": "96e9643e",
   "metadata": {},
   "outputs": [],
   "source": [
    "one_hot_df=pd.DataFrame(encoded_features_tips, columns=one_hot.get_feature_names_out())"
   ]
  },
  {
   "cell_type": "code",
   "execution_count": 7,
   "id": "9cfa259d",
   "metadata": {},
   "outputs": [
    {
     "data": {
      "text/html": [
       "<div>\n",
       "<style scoped>\n",
       "    .dataframe tbody tr th:only-of-type {\n",
       "        vertical-align: middle;\n",
       "    }\n",
       "\n",
       "    .dataframe tbody tr th {\n",
       "        vertical-align: top;\n",
       "    }\n",
       "\n",
       "    .dataframe thead th {\n",
       "        text-align: right;\n",
       "    }\n",
       "</style>\n",
       "<table border=\"1\" class=\"dataframe\">\n",
       "  <thead>\n",
       "    <tr style=\"text-align: right;\">\n",
       "      <th></th>\n",
       "      <th>sex_Female</th>\n",
       "      <th>sex_Male</th>\n",
       "      <th>day_Fri</th>\n",
       "      <th>day_Sat</th>\n",
       "      <th>day_Sun</th>\n",
       "      <th>day_Thur</th>\n",
       "      <th>smoker_No</th>\n",
       "      <th>smoker_Yes</th>\n",
       "      <th>time_Dinner</th>\n",
       "      <th>time_Lunch</th>\n",
       "    </tr>\n",
       "  </thead>\n",
       "  <tbody>\n",
       "    <tr>\n",
       "      <th>0</th>\n",
       "      <td>1.0</td>\n",
       "      <td>0.0</td>\n",
       "      <td>0.0</td>\n",
       "      <td>0.0</td>\n",
       "      <td>1.0</td>\n",
       "      <td>0.0</td>\n",
       "      <td>1.0</td>\n",
       "      <td>0.0</td>\n",
       "      <td>1.0</td>\n",
       "      <td>0.0</td>\n",
       "    </tr>\n",
       "    <tr>\n",
       "      <th>1</th>\n",
       "      <td>0.0</td>\n",
       "      <td>1.0</td>\n",
       "      <td>0.0</td>\n",
       "      <td>0.0</td>\n",
       "      <td>1.0</td>\n",
       "      <td>0.0</td>\n",
       "      <td>1.0</td>\n",
       "      <td>0.0</td>\n",
       "      <td>1.0</td>\n",
       "      <td>0.0</td>\n",
       "    </tr>\n",
       "    <tr>\n",
       "      <th>2</th>\n",
       "      <td>0.0</td>\n",
       "      <td>1.0</td>\n",
       "      <td>0.0</td>\n",
       "      <td>0.0</td>\n",
       "      <td>1.0</td>\n",
       "      <td>0.0</td>\n",
       "      <td>1.0</td>\n",
       "      <td>0.0</td>\n",
       "      <td>1.0</td>\n",
       "      <td>0.0</td>\n",
       "    </tr>\n",
       "    <tr>\n",
       "      <th>3</th>\n",
       "      <td>0.0</td>\n",
       "      <td>1.0</td>\n",
       "      <td>0.0</td>\n",
       "      <td>0.0</td>\n",
       "      <td>1.0</td>\n",
       "      <td>0.0</td>\n",
       "      <td>1.0</td>\n",
       "      <td>0.0</td>\n",
       "      <td>1.0</td>\n",
       "      <td>0.0</td>\n",
       "    </tr>\n",
       "    <tr>\n",
       "      <th>4</th>\n",
       "      <td>1.0</td>\n",
       "      <td>0.0</td>\n",
       "      <td>0.0</td>\n",
       "      <td>0.0</td>\n",
       "      <td>1.0</td>\n",
       "      <td>0.0</td>\n",
       "      <td>1.0</td>\n",
       "      <td>0.0</td>\n",
       "      <td>1.0</td>\n",
       "      <td>0.0</td>\n",
       "    </tr>\n",
       "  </tbody>\n",
       "</table>\n",
       "</div>"
      ],
      "text/plain": [
       "   sex_Female  sex_Male  day_Fri  day_Sat  day_Sun  day_Thur  smoker_No  \\\n",
       "0         1.0       0.0      0.0      0.0      1.0       0.0        1.0   \n",
       "1         0.0       1.0      0.0      0.0      1.0       0.0        1.0   \n",
       "2         0.0       1.0      0.0      0.0      1.0       0.0        1.0   \n",
       "3         0.0       1.0      0.0      0.0      1.0       0.0        1.0   \n",
       "4         1.0       0.0      0.0      0.0      1.0       0.0        1.0   \n",
       "\n",
       "   smoker_Yes  time_Dinner  time_Lunch  \n",
       "0         0.0          1.0         0.0  \n",
       "1         0.0          1.0         0.0  \n",
       "2         0.0          1.0         0.0  \n",
       "3         0.0          1.0         0.0  \n",
       "4         0.0          1.0         0.0  "
      ]
     },
     "execution_count": 7,
     "metadata": {},
     "output_type": "execute_result"
    }
   ],
   "source": [
    "one_hot_df.head()"
   ]
  },
  {
   "cell_type": "markdown",
   "id": "d5838949",
   "metadata": {},
   "source": [
    "4) créer ```df_numeric```, un DataFrame qui contient les données numériqures"
   ]
  },
  {
   "cell_type": "code",
   "execution_count": 8,
   "id": "1663f348",
   "metadata": {},
   "outputs": [],
   "source": [
    "df_numeric_tips= tips.select_dtypes(include=[np.number])"
   ]
  },
  {
   "cell_type": "code",
   "execution_count": 9,
   "id": "8efe815a",
   "metadata": {},
   "outputs": [
    {
     "data": {
      "text/html": [
       "<div>\n",
       "<style scoped>\n",
       "    .dataframe tbody tr th:only-of-type {\n",
       "        vertical-align: middle;\n",
       "    }\n",
       "\n",
       "    .dataframe tbody tr th {\n",
       "        vertical-align: top;\n",
       "    }\n",
       "\n",
       "    .dataframe thead th {\n",
       "        text-align: right;\n",
       "    }\n",
       "</style>\n",
       "<table border=\"1\" class=\"dataframe\">\n",
       "  <thead>\n",
       "    <tr style=\"text-align: right;\">\n",
       "      <th></th>\n",
       "      <th>total_bill</th>\n",
       "      <th>tip</th>\n",
       "      <th>size</th>\n",
       "    </tr>\n",
       "  </thead>\n",
       "  <tbody>\n",
       "    <tr>\n",
       "      <th>0</th>\n",
       "      <td>16.99</td>\n",
       "      <td>1.01</td>\n",
       "      <td>2</td>\n",
       "    </tr>\n",
       "    <tr>\n",
       "      <th>1</th>\n",
       "      <td>10.34</td>\n",
       "      <td>1.66</td>\n",
       "      <td>3</td>\n",
       "    </tr>\n",
       "    <tr>\n",
       "      <th>2</th>\n",
       "      <td>21.01</td>\n",
       "      <td>3.50</td>\n",
       "      <td>3</td>\n",
       "    </tr>\n",
       "    <tr>\n",
       "      <th>3</th>\n",
       "      <td>23.68</td>\n",
       "      <td>3.31</td>\n",
       "      <td>2</td>\n",
       "    </tr>\n",
       "    <tr>\n",
       "      <th>4</th>\n",
       "      <td>24.59</td>\n",
       "      <td>3.61</td>\n",
       "      <td>4</td>\n",
       "    </tr>\n",
       "  </tbody>\n",
       "</table>\n",
       "</div>"
      ],
      "text/plain": [
       "   total_bill   tip  size\n",
       "0       16.99  1.01     2\n",
       "1       10.34  1.66     3\n",
       "2       21.01  3.50     3\n",
       "3       23.68  3.31     2\n",
       "4       24.59  3.61     4"
      ]
     },
     "execution_count": 9,
     "metadata": {},
     "output_type": "execute_result"
    }
   ],
   "source": [
    "df_numeric_tips.head()"
   ]
  },
  {
   "cell_type": "markdown",
   "id": "8d0badf2",
   "metadata": {},
   "source": [
    "5) Concaténer ```ohe_df``` et ```df_numeric```, (```df =ohe_df + df_numeric```)"
   ]
  },
  {
   "cell_type": "code",
   "execution_count": 10,
   "id": "8bb0302e",
   "metadata": {},
   "outputs": [],
   "source": [
    "df= pd.concat([one_hot_df,df_numeric_tips], axis=1)\n",
    "df_copy=df.copy()"
   ]
  },
  {
   "cell_type": "code",
   "execution_count": 11,
   "id": "5d794b06",
   "metadata": {},
   "outputs": [
    {
     "data": {
      "text/html": [
       "<div>\n",
       "<style scoped>\n",
       "    .dataframe tbody tr th:only-of-type {\n",
       "        vertical-align: middle;\n",
       "    }\n",
       "\n",
       "    .dataframe tbody tr th {\n",
       "        vertical-align: top;\n",
       "    }\n",
       "\n",
       "    .dataframe thead th {\n",
       "        text-align: right;\n",
       "    }\n",
       "</style>\n",
       "<table border=\"1\" class=\"dataframe\">\n",
       "  <thead>\n",
       "    <tr style=\"text-align: right;\">\n",
       "      <th></th>\n",
       "      <th>sex_Female</th>\n",
       "      <th>sex_Male</th>\n",
       "      <th>day_Fri</th>\n",
       "      <th>day_Sat</th>\n",
       "      <th>day_Sun</th>\n",
       "      <th>day_Thur</th>\n",
       "      <th>smoker_No</th>\n",
       "      <th>smoker_Yes</th>\n",
       "      <th>time_Dinner</th>\n",
       "      <th>time_Lunch</th>\n",
       "      <th>total_bill</th>\n",
       "      <th>tip</th>\n",
       "      <th>size</th>\n",
       "    </tr>\n",
       "  </thead>\n",
       "  <tbody>\n",
       "    <tr>\n",
       "      <th>0</th>\n",
       "      <td>1.0</td>\n",
       "      <td>0.0</td>\n",
       "      <td>0.0</td>\n",
       "      <td>0.0</td>\n",
       "      <td>1.0</td>\n",
       "      <td>0.0</td>\n",
       "      <td>1.0</td>\n",
       "      <td>0.0</td>\n",
       "      <td>1.0</td>\n",
       "      <td>0.0</td>\n",
       "      <td>16.99</td>\n",
       "      <td>1.01</td>\n",
       "      <td>2</td>\n",
       "    </tr>\n",
       "    <tr>\n",
       "      <th>1</th>\n",
       "      <td>0.0</td>\n",
       "      <td>1.0</td>\n",
       "      <td>0.0</td>\n",
       "      <td>0.0</td>\n",
       "      <td>1.0</td>\n",
       "      <td>0.0</td>\n",
       "      <td>1.0</td>\n",
       "      <td>0.0</td>\n",
       "      <td>1.0</td>\n",
       "      <td>0.0</td>\n",
       "      <td>10.34</td>\n",
       "      <td>1.66</td>\n",
       "      <td>3</td>\n",
       "    </tr>\n",
       "    <tr>\n",
       "      <th>2</th>\n",
       "      <td>0.0</td>\n",
       "      <td>1.0</td>\n",
       "      <td>0.0</td>\n",
       "      <td>0.0</td>\n",
       "      <td>1.0</td>\n",
       "      <td>0.0</td>\n",
       "      <td>1.0</td>\n",
       "      <td>0.0</td>\n",
       "      <td>1.0</td>\n",
       "      <td>0.0</td>\n",
       "      <td>21.01</td>\n",
       "      <td>3.50</td>\n",
       "      <td>3</td>\n",
       "    </tr>\n",
       "    <tr>\n",
       "      <th>3</th>\n",
       "      <td>0.0</td>\n",
       "      <td>1.0</td>\n",
       "      <td>0.0</td>\n",
       "      <td>0.0</td>\n",
       "      <td>1.0</td>\n",
       "      <td>0.0</td>\n",
       "      <td>1.0</td>\n",
       "      <td>0.0</td>\n",
       "      <td>1.0</td>\n",
       "      <td>0.0</td>\n",
       "      <td>23.68</td>\n",
       "      <td>3.31</td>\n",
       "      <td>2</td>\n",
       "    </tr>\n",
       "    <tr>\n",
       "      <th>4</th>\n",
       "      <td>1.0</td>\n",
       "      <td>0.0</td>\n",
       "      <td>0.0</td>\n",
       "      <td>0.0</td>\n",
       "      <td>1.0</td>\n",
       "      <td>0.0</td>\n",
       "      <td>1.0</td>\n",
       "      <td>0.0</td>\n",
       "      <td>1.0</td>\n",
       "      <td>0.0</td>\n",
       "      <td>24.59</td>\n",
       "      <td>3.61</td>\n",
       "      <td>4</td>\n",
       "    </tr>\n",
       "  </tbody>\n",
       "</table>\n",
       "</div>"
      ],
      "text/plain": [
       "   sex_Female  sex_Male  day_Fri  day_Sat  day_Sun  day_Thur  smoker_No  \\\n",
       "0         1.0       0.0      0.0      0.0      1.0       0.0        1.0   \n",
       "1         0.0       1.0      0.0      0.0      1.0       0.0        1.0   \n",
       "2         0.0       1.0      0.0      0.0      1.0       0.0        1.0   \n",
       "3         0.0       1.0      0.0      0.0      1.0       0.0        1.0   \n",
       "4         1.0       0.0      0.0      0.0      1.0       0.0        1.0   \n",
       "\n",
       "   smoker_Yes  time_Dinner  time_Lunch  total_bill   tip  size  \n",
       "0         0.0          1.0         0.0       16.99  1.01     2  \n",
       "1         0.0          1.0         0.0       10.34  1.66     3  \n",
       "2         0.0          1.0         0.0       21.01  3.50     3  \n",
       "3         0.0          1.0         0.0       23.68  3.31     2  \n",
       "4         0.0          1.0         0.0       24.59  3.61     4  "
      ]
     },
     "execution_count": 11,
     "metadata": {},
     "output_type": "execute_result"
    }
   ],
   "source": [
    "df.head()"
   ]
  },
  {
   "cell_type": "markdown",
   "id": "a1e600d9",
   "metadata": {},
   "source": [
    "6) Exécuter le code suivant qui permet de modéliser les données et d'évaluer le modèle. Calculer le temps d'entrainement de modèle."
   ]
  },
  {
   "cell_type": "code",
   "execution_count": 12,
   "id": "093f5938",
   "metadata": {},
   "outputs": [
    {
     "name": "stdout",
     "output_type": "stream",
     "text": [
      "Score R² : 0.4876, temps du model 0.0401 sg\n"
     ]
    }
   ],
   "source": [
    "from sklearn.model_selection import train_test_split\n",
    "from sklearn.linear_model import LinearRegression\n",
    "from sklearn.metrics import r2_score\n",
    "import time\n",
    "\n",
    "X = df.drop(columns='tip')\n",
    "y = df['tip']\n",
    "\n",
    "X_train, X_test, y_train, y_test = train_test_split(X, y, test_size=0.2, random_state=1)\n",
    "\n",
    "start_time = time.time()\n",
    "\n",
    "model= LinearRegression()\n",
    "model.fit(X_train, y_train)\n",
    "\n",
    "y_test_pred = model.predict(X_test)\n",
    "end_time = time.time()\n",
    "\n",
    "training_time = end_time - start_time\n",
    "\n",
    "r2 = r2_score(y_test, y_test_pred)\n",
    "print(f\"Score R² : {r2:.4f}, temps du model {training_time:.4f} sg\")"
   ]
  },
  {
   "cell_type": "markdown",
   "id": "1c8f6ee7",
   "metadata": {},
   "source": [
    "---------------\n",
    "------------------"
   ]
  },
  {
   "cell_type": "markdown",
   "id": "793055ee",
   "metadata": {},
   "source": [
    "7) Standardiser la colonne 'total_bill' et afficher son histogramme"
   ]
  },
  {
   "cell_type": "code",
   "execution_count": 13,
   "id": "615e5db5",
   "metadata": {},
   "outputs": [],
   "source": [
    "from sklearn.preprocessing import MinMaxScaler, StandardScaler, RobustScaler"
   ]
  },
  {
   "cell_type": "code",
   "execution_count": 14,
   "id": "55a61ba6",
   "metadata": {},
   "outputs": [],
   "source": [
    "stdcaler = StandardScaler()\n",
    "scaled_data = stdcaler.fit_transform(tips[['total_bill']])\n",
    "df_copy.total_bill= scaled_data"
   ]
  },
  {
   "cell_type": "code",
   "execution_count": 15,
   "id": "511f4756",
   "metadata": {},
   "outputs": [
    {
     "data": {
      "image/png": "[encoded data removed]",
      "text/plain": [
       "<Figure size 1400x500 with 2 Axes>"
      ]
     },
     "metadata": {},
     "output_type": "display_data"
    }
   ],
   "source": [
    "#grapgique avant la normalisation\n",
    "plt.figure(figsize=(14, 5))  # Taille des graphes\n",
    "plt.subplot(1, 2,1) # position\n",
    "plt.hist(tips.total_bill)\n",
    "plt.subplot(1, 2,2) #position\n",
    "plt.boxplot(tips.total_bill)\n",
    "\n",
    "plt.suptitle(\"Graphique sans normalise\")\n",
    "\n",
    "plt.show()"
   ]
  },
  {
   "cell_type": "code",
   "execution_count": 16,
   "id": "b0f27a9a",
   "metadata": {},
   "outputs": [
    {
     "data": {
      "image/png": "[encoded data removed]",
      "text/plain": [
       "<Figure size 1400x500 with 2 Axes>"
      ]
     },
     "metadata": {},
     "output_type": "display_data"
    }
   ],
   "source": [
    "#grapgique avant la normalisation\n",
    "plt.figure(figsize=(14, 5))  # Taille des graphes\n",
    "plt.subplot(1, 2,1) # position\n",
    "plt.hist(scaled_data)\n",
    "plt.subplot(1, 2,2) #position\n",
    "plt.boxplot(scaled_data)\n",
    "\n",
    "plt.suptitle(\"Graphique normalise\")\n",
    "plt.show()"
   ]
  },
  {
   "cell_type": "markdown",
   "id": "18b7763d",
   "metadata": {},
   "source": [
    "8) Comparer le temps d'entraînement du modèle à celui trouvé à la question 6."
   ]
  },
  {
   "cell_type": "code",
   "execution_count": 17,
   "id": "2077472e",
   "metadata": {},
   "outputs": [
    {
     "name": "stdout",
     "output_type": "stream",
     "text": [
      "Score R² : 0.4876, temps du model 0.0100 sg\n"
     ]
    }
   ],
   "source": [
    "from sklearn.model_selection import train_test_split\n",
    "from sklearn.linear_model import LinearRegression\n",
    "from sklearn.metrics import r2_score\n",
    "import time\n",
    "\n",
    "X = df_copy.drop(columns='tip')\n",
    "y = df_copy['tip']\n",
    "\n",
    "X_train, X_test, y_train, y_test = train_test_split(X, y, test_size=0.2, random_state=1)\n",
    "\n",
    "start_time = time.time()\n",
    "\n",
    "model= LinearRegression()\n",
    "model.fit(X_train, y_train)\n",
    "\n",
    "y_test_pred = model.predict(X_test)\n",
    "end_time = time.time()\n",
    "\n",
    "training_time = end_time - start_time\n",
    "\n",
    "r2 = r2_score(y_test, y_test_pred)\n",
    "print(f\"Score R² : {r2:.4f}, temps du model {training_time:.4f} sg\")"
   ]
  },
  {
   "cell_type": "markdown",
   "id": "6060a169",
   "metadata": {},
   "source": [
    "## Partie 2"
   ]
  },
  {
   "cell_type": "markdown",
   "id": "0083f99c",
   "metadata": {},
   "source": [
    "1) Télecharger les données iris de seaborn"
   ]
  },
  {
   "cell_type": "code",
   "execution_count": 18,
   "id": "5a0f235d",
   "metadata": {},
   "outputs": [
    {
     "data": {
      "text/html": [
       "<div>\n",
       "<style scoped>\n",
       "    .dataframe tbody tr th:only-of-type {\n",
       "        vertical-align: middle;\n",
       "    }\n",
       "\n",
       "    .dataframe tbody tr th {\n",
       "        vertical-align: top;\n",
       "    }\n",
       "\n",
       "    .dataframe thead th {\n",
       "        text-align: right;\n",
       "    }\n",
       "</style>\n",
       "<table border=\"1\" class=\"dataframe\">\n",
       "  <thead>\n",
       "    <tr style=\"text-align: right;\">\n",
       "      <th></th>\n",
       "      <th>sepal_length</th>\n",
       "      <th>sepal_width</th>\n",
       "      <th>petal_length</th>\n",
       "      <th>petal_width</th>\n",
       "      <th>species</th>\n",
       "    </tr>\n",
       "  </thead>\n",
       "  <tbody>\n",
       "    <tr>\n",
       "      <th>0</th>\n",
       "      <td>5.1</td>\n",
       "      <td>3.5</td>\n",
       "      <td>1.4</td>\n",
       "      <td>0.2</td>\n",
       "      <td>setosa</td>\n",
       "    </tr>\n",
       "    <tr>\n",
       "      <th>1</th>\n",
       "      <td>4.9</td>\n",
       "      <td>3.0</td>\n",
       "      <td>1.4</td>\n",
       "      <td>0.2</td>\n",
       "      <td>setosa</td>\n",
       "    </tr>\n",
       "    <tr>\n",
       "      <th>2</th>\n",
       "      <td>4.7</td>\n",
       "      <td>3.2</td>\n",
       "      <td>1.3</td>\n",
       "      <td>0.2</td>\n",
       "      <td>setosa</td>\n",
       "    </tr>\n",
       "    <tr>\n",
       "      <th>3</th>\n",
       "      <td>4.6</td>\n",
       "      <td>3.1</td>\n",
       "      <td>1.5</td>\n",
       "      <td>0.2</td>\n",
       "      <td>setosa</td>\n",
       "    </tr>\n",
       "    <tr>\n",
       "      <th>4</th>\n",
       "      <td>5.0</td>\n",
       "      <td>3.6</td>\n",
       "      <td>1.4</td>\n",
       "      <td>0.2</td>\n",
       "      <td>setosa</td>\n",
       "    </tr>\n",
       "  </tbody>\n",
       "</table>\n",
       "</div>"
      ],
      "text/plain": [
       "   sepal_length  sepal_width  petal_length  petal_width species\n",
       "0           5.1          3.5           1.4          0.2  setosa\n",
       "1           4.9          3.0           1.4          0.2  setosa\n",
       "2           4.7          3.2           1.3          0.2  setosa\n",
       "3           4.6          3.1           1.5          0.2  setosa\n",
       "4           5.0          3.6           1.4          0.2  setosa"
      ]
     },
     "execution_count": 18,
     "metadata": {},
     "output_type": "execute_result"
    }
   ],
   "source": [
    "data = sns.load_dataset('iris')\n",
    "data.head()"
   ]
  },
  {
   "cell_type": "code",
   "execution_count": 19,
   "id": "45075d60",
   "metadata": {},
   "outputs": [
    {
     "data": {
      "text/plain": [
       "Index(['sepal_length', 'sepal_width', 'petal_length', 'petal_width',\n",
       "       'species'],\n",
       "      dtype='object')"
      ]
     },
     "execution_count": 19,
     "metadata": {},
     "output_type": "execute_result"
    }
   ],
   "source": [
    "data.columns"
   ]
  },
  {
   "cell_type": "markdown",
   "id": "1fb541f3",
   "metadata": {},
   "source": [
    "Le but est de classifier les fleurs à partir des variables sepal_length, sepal_width, petal_length, petal_width"
   ]
  },
  {
   "cell_type": "markdown",
   "id": "5e890d62",
   "metadata": {},
   "source": [
    "2) Encoder la variable ```species```"
   ]
  },
  {
   "cell_type": "code",
   "execution_count": 20,
   "id": "147c8cae",
   "metadata": {},
   "outputs": [
    {
     "name": "stderr",
     "output_type": "stream",
     "text": [
      "c:\\Users\\Jose Fabian Cardona\\Desktop\\Sas_simplon\\streamlit_data\\.venv\\Lib\\site-packages\\sklearn\\preprocessing\\_label.py:97: DataConversionWarning: A column-vector y was passed when a 1d array was expected. Please change the shape of y to (n_samples, ), for example using ravel().\n",
      "  y = column_or_1d(y, warn=True)\n",
      "c:\\Users\\Jose Fabian Cardona\\Desktop\\Sas_simplon\\streamlit_data\\.venv\\Lib\\site-packages\\sklearn\\preprocessing\\_label.py:132: DataConversionWarning: A column-vector y was passed when a 1d array was expected. Please change the shape of y to (n_samples, ), for example using ravel().\n",
      "  y = column_or_1d(y, dtype=self.classes_.dtype, warn=True)\n"
     ]
    },
    {
     "data": {
      "text/plain": [
       "array([0, 0, 0, 0, 0, 0, 0, 0, 0, 0, 0, 0, 0, 0, 0, 0, 0, 0, 0, 0, 0, 0,\n",
       "       0, 0, 0, 0, 0, 0, 0, 0, 0, 0, 0, 0, 0, 0, 0, 0, 0, 0, 0, 0, 0, 0,\n",
       "       0, 0, 0, 0, 0, 0, 1, 1, 1, 1, 1, 1, 1, 1, 1, 1, 1, 1, 1, 1, 1, 1,\n",
       "       1, 1, 1, 1, 1, 1, 1, 1, 1, 1, 1, 1, 1, 1, 1, 1, 1, 1, 1, 1, 1, 1,\n",
       "       1, 1, 1, 1, 1, 1, 1, 1, 1, 1, 1, 1, 2, 2, 2, 2, 2, 2, 2, 2, 2, 2,\n",
       "       2, 2, 2, 2, 2, 2, 2, 2, 2, 2, 2, 2, 2, 2, 2, 2, 2, 2, 2, 2, 2, 2,\n",
       "       2, 2, 2, 2, 2, 2, 2, 2, 2, 2, 2, 2, 2, 2, 2, 2, 2, 2])"
      ]
     },
     "execution_count": 20,
     "metadata": {},
     "output_type": "execute_result"
    }
   ],
   "source": [
    "label_encode = LabelEncoder()\n",
    "label_encode.fit(data[['species']])\n",
    "label_features_specie = label_encode.transform(data[['species']])\n",
    "data['species']=label_features_specie\n",
    "label_features_specie"
   ]
  },
  {
   "cell_type": "markdown",
   "id": "042113a2",
   "metadata": {},
   "source": [
    "3) Exécuter le code suivant qui permet de modéliser les données et d'évaluer le modèle. Calculer le temps d'entrainement de modèle."
   ]
  },
  {
   "cell_type": "code",
   "execution_count": 21,
   "id": "f47608a4",
   "metadata": {},
   "outputs": [
    {
     "name": "stdout",
     "output_type": "stream",
     "text": [
      "temps du model 0.0080 sg\n",
      "Précision : 1.0000\n",
      "Score F1 (weighted) : 1.0000\n"
     ]
    }
   ],
   "source": [
    "from sklearn.model_selection import train_test_split\n",
    "from sklearn.linear_model import LogisticRegression\n",
    "from sklearn.metrics import accuracy_score, precision_score, recall_score, f1_score\n",
    "import time\n",
    "\n",
    "#results = pd.DataFrame(columns=[ \"Accuracy\", \"Time (s)\"])\n",
    "\n",
    "df_train, df_test = train_test_split(data, test_size=0.2, random_state=42)\n",
    "\n",
    "X_train = df_train.iloc[:, 0:-1]\n",
    "y_train = df_train.iloc[:, -1]\n",
    "\n",
    "X_test = df_test.iloc[:, 0:-1]\n",
    "y_test = df_test.iloc[:, -1]\n",
    "\n",
    "clf = LogisticRegression(max_iter=1_000)\n",
    "clf.fit(X_train, y_train)\n",
    "#start time\n",
    "start_time = time.time()\n",
    "\n",
    "# Prédictions\n",
    "y_pred = clf.predict(X_test)\n",
    "y_pred_proba = clf.predict_proba(X_test)\n",
    "\n",
    "#end time\n",
    "end_time = time.time()\n",
    "\n",
    "# Calcul des métriques\n",
    "accuracy = accuracy_score(y_test, y_pred)\n",
    "f1 = f1_score(y_test, y_pred, average='weighted')\n",
    "\n",
    "training_time = end_time - start_time\n",
    "\n",
    "#results = results.append({ \"Accuracy\": accuracy, \"Time (s)\": training_time}, ignore_index=True)\n",
    "\n",
    "print(f\"temps du model {training_time:.4f} sg\")\n",
    "print(f\"Précision : {accuracy:.4f}\")\n",
    "print(f\"Score F1 (weighted) : {f1:.4f}\")\n"
   ]
  },
  {
   "cell_type": "markdown",
   "id": "993c6bf4",
   "metadata": {},
   "source": [
    "4) Afficher les histogrammes des features"
   ]
  },
  {
   "cell_type": "code",
   "execution_count": 22,
   "id": "3db42878",
   "metadata": {},
   "outputs": [
    {
     "data": {
      "image/png": "[encoded data removed]",
      "text/plain": [
       "<Figure size 1400x500 with 2 Axes>"
      ]
     },
     "metadata": {},
     "output_type": "display_data"
    },
    {
     "data": {
      "image/png": "[encoded data removed]",
      "text/plain": [
       "<Figure size 1400x500 with 2 Axes>"
      ]
     },
     "metadata": {},
     "output_type": "display_data"
    },
    {
     "data": {
      "image/png": "[encoded data removed]",
      "text/plain": [
       "<Figure size 1400x500 with 2 Axes>"
      ]
     },
     "metadata": {},
     "output_type": "display_data"
    },
    {
     "data": {
      "image/png": "[encoded data removed]",
      "text/plain": [
       "<Figure size 1400x500 with 2 Axes>"
      ]
     },
     "metadata": {},
     "output_type": "display_data"
    }
   ],
   "source": [
    "\n",
    "numeric_cols=['sepal_length', 'sepal_width', 'petal_length', 'petal_width']\n",
    "for col in numeric_cols:\n",
    "        plt.figure(figsize=(14, 5))  # Taille des graphes\n",
    "\n",
    "        # Histograme con KDE\n",
    "        plt.subplot(1, 2, 1)\n",
    "        sns.histplot(data[col], kde=True, bins=30, color='skyblue')\n",
    "        plt.title(f'Distribution of {col} - Histogram')  # Títre específique\n",
    "        plt.xlabel('')  # axis X vide\n",
    "        plt.ylabel('')  # axis  Y vide\n",
    "\n",
    "        # Boxplot\n",
    "        plt.subplot(1, 2, 2)\n",
    "        sns.boxplot(x=data[col], color='lightgreen')\n",
    "        plt.title(f'Distribution of {col} - Boxplot')  # Títre específique\n",
    "        plt.xlabel('')  # # axis X vide\n",
    "        plt.ylabel('')  # # axis Y vide\n",
    "\n",
    "        plt.suptitle(f'Distribution Analysis for {col}', fontsize=16)  # Títre general\n",
    "        plt.tight_layout(rect=[0, 0, 1, 0.95])  # Ajuste l'espace du titre\n",
    "        plt.show()"
   ]
  },
  {
   "cell_type": "markdown",
   "id": "414fb3db",
   "metadata": {},
   "source": [
    "5) Standardiser les features"
   ]
  },
  {
   "cell_type": "code",
   "execution_count": 23,
   "id": "416838e5",
   "metadata": {},
   "outputs": [],
   "source": [
    "# methode standardscaler\n",
    "stdcaler = StandardScaler()\n",
    "scaled_data_iris = stdcaler.fit_transform(data[['sepal_width']])\n",
    "data['sepal_width']= scaled_data_iris"
   ]
  },
  {
   "cell_type": "code",
   "execution_count": 24,
   "id": "2b56db19",
   "metadata": {},
   "outputs": [],
   "source": [
    "# methode mimmax\n",
    "mmcaler = MinMaxScaler()\n",
    "mmscaled_data_iris = mmcaler.fit_transform(data[['sepal_length']])\n",
    "data['sepal_length']= mmscaled_data_iris"
   ]
  },
  {
   "cell_type": "code",
   "execution_count": 25,
   "id": "3a6546a6",
   "metadata": {},
   "outputs": [],
   "source": [
    "mmscaled_data_pl = mmcaler.fit_transform(data[['petal_length']])\n",
    "data['petal_length']= mmscaled_data_pl"
   ]
  },
  {
   "cell_type": "code",
   "execution_count": 26,
   "id": "2c049379",
   "metadata": {},
   "outputs": [],
   "source": [
    "mmscaled_data_pw = mmcaler.fit_transform(data[['petal_width']])\n",
    "data['petal_width']= mmscaled_data_pw"
   ]
  },
  {
   "cell_type": "markdown",
   "id": "c48f5744",
   "metadata": {},
   "source": [
    "6) Comparer le temps d'entraînement du modèle à celui trouvé à la question 3."
   ]
  },
  {
   "cell_type": "code",
   "execution_count": 27,
   "id": "40473666",
   "metadata": {},
   "outputs": [
    {
     "name": "stdout",
     "output_type": "stream",
     "text": [
      "temps du model 0.0091 sg\n",
      "Précision : 0.9667\n",
      "Score F1 (weighted) : 0.9664\n"
     ]
    }
   ],
   "source": [
    "from sklearn.model_selection import train_test_split\n",
    "from sklearn.linear_model import LogisticRegression\n",
    "from sklearn.metrics import accuracy_score, precision_score, recall_score, f1_score\n",
    "import time\n",
    "\n",
    "\n",
    "df_train, df_test = train_test_split(data, test_size=0.2, random_state=42)\n",
    "\n",
    "X_train = df_train.iloc[:, 0:-1]\n",
    "y_train = df_train.iloc[:, -1]\n",
    "\n",
    "X_test = df_test.iloc[:, 0:-1]\n",
    "y_test = df_test.iloc[:, -1]\n",
    "\n",
    "clf = LogisticRegression(max_iter=1_000)\n",
    "clf.fit(X_train, y_train)\n",
    "#start time\n",
    "start_time = time.time()\n",
    "\n",
    "# Prédictions\n",
    "y_pred = clf.predict(X_test)\n",
    "y_pred_proba = clf.predict_proba(X_test)\n",
    "\n",
    "#end time\n",
    "end_time = time.time()\n",
    "\n",
    "# Calcul des métriques\n",
    "accuracy = accuracy_score(y_test, y_pred)\n",
    "f1 = f1_score(y_test, y_pred, average='weighted')\n",
    "\n",
    "training_time = end_time - start_time\n",
    "\n",
    "\n",
    "print(f\"temps du model {training_time:.4f} sg\")\n",
    "print(f\"Précision : {accuracy:.4f}\")\n",
    "print(f\"Score F1 (weighted) : {f1:.4f}\")"
   ]
  },
  {
   "cell_type": "code",
   "execution_count": null,
   "id": "8ef58c43",
   "metadata": {},
   "outputs": [],
   "source": []
  }
 ],
 "metadata": {
  "kernelspec": {
   "display_name": "base",
   "language": "python",
   "name": "python3"
  },
  "language_info": {
   "codemirror_mode": {
    "name": "ipython",
    "version": 3
   },
   "file_extension": ".py",
   "mimetype": "text/x-python",
   "name": "python",
   "nbconvert_exporter": "python",
   "pygments_lexer": "ipython3",
   "version": "3.12.4"
  },
  "toc": {
   "base_numbering": 1,
   "nav_menu": {},
   "number_sections": true,
   "sideBar": true,
   "skip_h1_title": false,
   "title_cell": "Table of Contents",
   "title_sidebar": "Contents",
   "toc_cell": false,
   "toc_position": {},
   "toc_section_display": true,
   "toc_window_display": false
  }
 },
 "nbformat": 4,
 "nbformat_minor": 5
}
